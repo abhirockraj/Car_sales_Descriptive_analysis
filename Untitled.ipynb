{
 "cells": [
  {
   "cell_type": "code",
   "execution_count": 4,
   "metadata": {},
   "outputs": [
    {
     "name": "stdout",
     "output_type": "stream",
     "text": [
      " * Serving Flask app \"__main__\" (lazy loading)\n",
      " * Environment: production\n",
      "   WARNING: This is a development server. Do not use it in a production deployment.\n",
      "   Use a production WSGI server instead.\n",
      " * Debug mode: on\n"
     ]
    },
    {
     "name": "stderr",
     "output_type": "stream",
     "text": [
      " * Restarting with windowsapi reloader\n"
     ]
    },
    {
     "ename": "SystemExit",
     "evalue": "1",
     "output_type": "error",
     "traceback": [
      "An exception has occurred, use %tb to see the full traceback.\n",
      "\u001b[1;31mSystemExit\u001b[0m\u001b[1;31m:\u001b[0m 1\n"
     ]
    },
    {
     "name": "stderr",
     "output_type": "stream",
     "text": [
      "C:\\Users\\ABHINAV\\Anaconda3\\envs\\deeplearn\\lib\\site-packages\\IPython\\core\\interactiveshell.py:3351: UserWarning: To exit: use 'exit', 'quit', or Ctrl-D.\n",
      "  warn(\"To exit: use 'exit', 'quit', or Ctrl-D.\", stacklevel=1)\n"
     ]
    }
   ],
   "source": [
    "import numpy as np\n",
    "from flask import Flask, request, jsonify, render_template\n",
    "import pickle\n",
    "\n",
    "app = Flask(__name__)\n",
    "model = pickle.load(open('model_NN_pickle.pkl', 'rb'))\n",
    "\n",
    "@app.route('/')\n",
    "def home():\n",
    "    return render_template('index.html')\n",
    "\n",
    "@app.route('/predict',methods=['POST'])\n",
    "def predict():\n",
    "    '''\n",
    "    For rendering results on HTML GUI\n",
    "    '''\n",
    "    f_features = np.array([float(x) for x in request.form.values()])\n",
    "    p = model.predict(final_features)\n",
    "\n",
    "    output = (p*7879.12)+13150.3 \n",
    "\n",
    "    return render_template('index.html', prediction_text='Price should be $ {}'.format(output))\n",
    "\n",
    "# @app.route('/predict_api',methods=['POST'])\n",
    "# def predict_api():\n",
    "#     '''\n",
    "#     For direct API calls trought request\n",
    "#     '''\n",
    "#     data = request.get_json(force=True)\n",
    "#     prediction = model.predict([np.array(list(data.values()))])\n",
    "\n",
    "#     output = prediction[0]5\n",
    "#     return jsonify(output)\n",
    "\n",
    "if __name__ == \"__main__\":\n",
    "    app.run(debug=True)"
   ]
  },
  {
   "cell_type": "code",
   "execution_count": 11,
   "metadata": {},
   "outputs": [
    {
     "name": "stdout",
     "output_type": "stream",
     "text": [
      "(10,)\n"
     ]
    }
   ],
   "source": [
    "import numpy as np\n",
    "l=[1,2,3,4,5,6,7,8,9,10]\n",
    "f_feature= np.array([float(x) for x in l])\n",
    "final_features = np.array(f_feature)\n",
    "print(final_features.shape)"
   ]
  },
  {
   "cell_type": "code",
   "execution_count": 37,
   "metadata": {},
   "outputs": [
    {
     "data": {
      "text/plain": [
       "array([[ 5],\n",
       "       [ 9],\n",
       "       [ 8],\n",
       "       [ 7],\n",
       "       [ 4],\n",
       "       [ 5],\n",
       "       [47],\n",
       "       [ 8]])"
      ]
     },
     "execution_count": 37,
     "metadata": {},
     "output_type": "execute_result"
    }
   ],
   "source": [
    "#  sy=5\n",
    "#     wb=float(request.form[\"wb\"])\n",
    "#     l=float(request.form[\"l\"])\n",
    "#     w=float(request.form[\"w\"])\n",
    "#     h=float(request.form[\"h\"])\n",
    "#     cw=float(request.form[\"cw\"])\n",
    "#     es=float(request.form[\"es\"])\n",
    "#     b=float(request.form[\"b\"])\n",
    "#     s=float(request.form[\"s\"])\n",
    "#     cr=float(request.form[\"cr\"])\n",
    "#     hr=float(request.form[\"hr\"])\n",
    "#     pr=float(request.form[\"pr\"])\n",
    "#     cm=float(request.form[\"cm\"])\n",
    "#     hm=float(request.form[\"hm\"])\n",
    "#     c=float(request.form[\"c\"])\n",
    "l=[5,9,8,7,4,5,47,8]\n",
    "f= np.array([5,9,8,7,4,5,47,8])\n",
    "f=f.reshape((-1,1))\n",
    "f"
   ]
  },
  {
   "cell_type": "code",
   "execution_count": 36,
   "metadata": {},
   "outputs": [
    {
     "data": {
      "text/plain": [
       "(8,)"
      ]
     },
     "execution_count": 36,
     "metadata": {},
     "output_type": "execute_result"
    }
   ],
   "source": [
    "a=np.array([5,9,8,7,4,5,47,8]) \n",
    "a[:, None]\n",
    "a.shape"
   ]
  },
  {
   "cell_type": "code",
   "execution_count": null,
   "metadata": {},
   "outputs": [],
   "source": []
  }
 ],
 "metadata": {
  "kernelspec": {
   "display_name": "Python 3",
   "language": "python",
   "name": "python3"
  },
  "language_info": {
   "codemirror_mode": {
    "name": "ipython",
    "version": 3
   },
   "file_extension": ".py",
   "mimetype": "text/x-python",
   "name": "python",
   "nbconvert_exporter": "python",
   "pygments_lexer": "ipython3",
   "version": "3.7.7"
  }
 },
 "nbformat": 4,
 "nbformat_minor": 4
}
